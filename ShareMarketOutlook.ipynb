{
 "cells": [
  {
   "cell_type": "code",
   "execution_count": 11,
   "id": "8820d1cf",
   "metadata": {
    "scrolled": true
   },
   "outputs": [
    {
     "name": "stdout",
     "output_type": "stream",
     "text": [
      "[*********************100%%**********************]  1 of 1 completed\n"
     ]
    },
    {
     "data": {
      "text/html": [
       "<div>\n",
       "<style scoped>\n",
       "    .dataframe tbody tr th:only-of-type {\n",
       "        vertical-align: middle;\n",
       "    }\n",
       "\n",
       "    .dataframe tbody tr th {\n",
       "        vertical-align: top;\n",
       "    }\n",
       "\n",
       "    .dataframe thead th {\n",
       "        text-align: right;\n",
       "    }\n",
       "</style>\n",
       "<table border=\"1\" class=\"dataframe\">\n",
       "  <thead>\n",
       "    <tr style=\"text-align: right;\">\n",
       "      <th></th>\n",
       "      <th>Open</th>\n",
       "      <th>High</th>\n",
       "      <th>Low</th>\n",
       "      <th>Close</th>\n",
       "      <th>Adj Close</th>\n",
       "      <th>Volume</th>\n",
       "    </tr>\n",
       "    <tr>\n",
       "      <th>Date</th>\n",
       "      <th></th>\n",
       "      <th></th>\n",
       "      <th></th>\n",
       "      <th></th>\n",
       "      <th></th>\n",
       "      <th></th>\n",
       "    </tr>\n",
       "  </thead>\n",
       "  <tbody>\n",
       "    <tr>\n",
       "      <th>2023-10-26</th>\n",
       "      <td>2251.000000</td>\n",
       "      <td>2258.0</td>\n",
       "      <td>2220.300049</td>\n",
       "      <td>2226.500000</td>\n",
       "      <td>2226.500000</td>\n",
       "      <td>7611267</td>\n",
       "    </tr>\n",
       "    <tr>\n",
       "      <th>2023-10-27</th>\n",
       "      <td>2240.000000</td>\n",
       "      <td>2273.5</td>\n",
       "      <td>2235.949951</td>\n",
       "      <td>2265.800049</td>\n",
       "      <td>2265.800049</td>\n",
       "      <td>5885542</td>\n",
       "    </tr>\n",
       "    <tr>\n",
       "      <th>2023-10-30</th>\n",
       "      <td>2274.000000</td>\n",
       "      <td>2325.0</td>\n",
       "      <td>2269.949951</td>\n",
       "      <td>2312.500000</td>\n",
       "      <td>2312.500000</td>\n",
       "      <td>8406652</td>\n",
       "    </tr>\n",
       "    <tr>\n",
       "      <th>2023-10-31</th>\n",
       "      <td>2328.000000</td>\n",
       "      <td>2328.0</td>\n",
       "      <td>2282.899902</td>\n",
       "      <td>2287.899902</td>\n",
       "      <td>2287.899902</td>\n",
       "      <td>6404219</td>\n",
       "    </tr>\n",
       "    <tr>\n",
       "      <th>2023-11-01</th>\n",
       "      <td>2289.149902</td>\n",
       "      <td>2317.5</td>\n",
       "      <td>2275.199951</td>\n",
       "      <td>2297.399902</td>\n",
       "      <td>2297.399902</td>\n",
       "      <td>5154595</td>\n",
       "    </tr>\n",
       "  </tbody>\n",
       "</table>\n",
       "</div>"
      ],
      "text/plain": [
       "                   Open    High          Low        Close    Adj Close  \\\n",
       "Date                                                                     \n",
       "2023-10-26  2251.000000  2258.0  2220.300049  2226.500000  2226.500000   \n",
       "2023-10-27  2240.000000  2273.5  2235.949951  2265.800049  2265.800049   \n",
       "2023-10-30  2274.000000  2325.0  2269.949951  2312.500000  2312.500000   \n",
       "2023-10-31  2328.000000  2328.0  2282.899902  2287.899902  2287.899902   \n",
       "2023-11-01  2289.149902  2317.5  2275.199951  2297.399902  2297.399902   \n",
       "\n",
       "             Volume  \n",
       "Date                 \n",
       "2023-10-26  7611267  \n",
       "2023-10-27  5885542  \n",
       "2023-10-30  8406652  \n",
       "2023-10-31  6404219  \n",
       "2023-11-01  5154595  "
      ]
     },
     "execution_count": 11,
     "metadata": {},
     "output_type": "execute_result"
    }
   ],
   "source": [
    "import numpy as np\n",
    "import pandas as pd\n",
    "import matplotlib.pyplot as plt\n",
    "import yfinance as yf\n",
    "from datetime import datetime\n",
    "\n",
    "\n",
    "start = '2002-04-01'\n",
    "end = datetime.now().strftime('%Y-%m-%d')\n",
    "df = yf.download('RELIANCE.NS', start=start, end=end)\n",
    "#print(df.info())\n",
    "df.head()\n",
    "df.tail()"
   ]
  },
  {
   "cell_type": "code",
   "execution_count": 12,
   "id": "5af2dff6",
   "metadata": {
    "scrolled": true
   },
   "outputs": [
    {
     "data": {
      "text/html": [
       "<div>\n",
       "<style scoped>\n",
       "    .dataframe tbody tr th:only-of-type {\n",
       "        vertical-align: middle;\n",
       "    }\n",
       "\n",
       "    .dataframe tbody tr th {\n",
       "        vertical-align: top;\n",
       "    }\n",
       "\n",
       "    .dataframe thead th {\n",
       "        text-align: right;\n",
       "    }\n",
       "</style>\n",
       "<table border=\"1\" class=\"dataframe\">\n",
       "  <thead>\n",
       "    <tr style=\"text-align: right;\">\n",
       "      <th></th>\n",
       "      <th>Date</th>\n",
       "      <th>Open</th>\n",
       "      <th>High</th>\n",
       "      <th>Low</th>\n",
       "      <th>Close</th>\n",
       "      <th>Adj Close</th>\n",
       "      <th>Volume</th>\n",
       "    </tr>\n",
       "  </thead>\n",
       "  <tbody>\n",
       "    <tr>\n",
       "      <th>0</th>\n",
       "      <td>2002-04-01</td>\n",
       "      <td>46.673141</td>\n",
       "      <td>47.702068</td>\n",
       "      <td>46.309536</td>\n",
       "      <td>46.750504</td>\n",
       "      <td>36.978374</td>\n",
       "      <td>16271826</td>\n",
       "    </tr>\n",
       "    <tr>\n",
       "      <th>1</th>\n",
       "      <td>2002-04-02</td>\n",
       "      <td>46.495205</td>\n",
       "      <td>47.075428</td>\n",
       "      <td>46.495205</td>\n",
       "      <td>46.967121</td>\n",
       "      <td>37.149712</td>\n",
       "      <td>9707066</td>\n",
       "    </tr>\n",
       "    <tr>\n",
       "      <th>2</th>\n",
       "      <td>2002-04-03</td>\n",
       "      <td>46.951649</td>\n",
       "      <td>46.951649</td>\n",
       "      <td>46.038765</td>\n",
       "      <td>46.255383</td>\n",
       "      <td>36.586742</td>\n",
       "      <td>6812526</td>\n",
       "    </tr>\n",
       "    <tr>\n",
       "      <th>3</th>\n",
       "      <td>2002-04-04</td>\n",
       "      <td>46.495205</td>\n",
       "      <td>49.496895</td>\n",
       "      <td>46.495205</td>\n",
       "      <td>47.245628</td>\n",
       "      <td>37.370003</td>\n",
       "      <td>63835106</td>\n",
       "    </tr>\n",
       "    <tr>\n",
       "      <th>4</th>\n",
       "      <td>2002-04-05</td>\n",
       "      <td>47.384880</td>\n",
       "      <td>48.119831</td>\n",
       "      <td>47.191475</td>\n",
       "      <td>47.299782</td>\n",
       "      <td>37.412834</td>\n",
       "      <td>21476234</td>\n",
       "    </tr>\n",
       "  </tbody>\n",
       "</table>\n",
       "</div>"
      ],
      "text/plain": [
       "        Date       Open       High        Low      Close  Adj Close    Volume\n",
       "0 2002-04-01  46.673141  47.702068  46.309536  46.750504  36.978374  16271826\n",
       "1 2002-04-02  46.495205  47.075428  46.495205  46.967121  37.149712   9707066\n",
       "2 2002-04-03  46.951649  46.951649  46.038765  46.255383  36.586742   6812526\n",
       "3 2002-04-04  46.495205  49.496895  46.495205  47.245628  37.370003  63835106\n",
       "4 2002-04-05  47.384880  48.119831  47.191475  47.299782  37.412834  21476234"
      ]
     },
     "execution_count": 12,
     "metadata": {},
     "output_type": "execute_result"
    }
   ],
   "source": [
    "df =df.reset_index()\n",
    "df.head()"
   ]
  },
  {
   "cell_type": "code",
   "execution_count": 13,
   "id": "8132e3e3",
   "metadata": {},
   "outputs": [
    {
     "data": {
      "text/html": [
       "<div>\n",
       "<style scoped>\n",
       "    .dataframe tbody tr th:only-of-type {\n",
       "        vertical-align: middle;\n",
       "    }\n",
       "\n",
       "    .dataframe tbody tr th {\n",
       "        vertical-align: top;\n",
       "    }\n",
       "\n",
       "    .dataframe thead th {\n",
       "        text-align: right;\n",
       "    }\n",
       "</style>\n",
       "<table border=\"1\" class=\"dataframe\">\n",
       "  <thead>\n",
       "    <tr style=\"text-align: right;\">\n",
       "      <th></th>\n",
       "      <th>Date</th>\n",
       "      <th>Open</th>\n",
       "      <th>High</th>\n",
       "      <th>Low</th>\n",
       "      <th>Close</th>\n",
       "      <th>Volume</th>\n",
       "    </tr>\n",
       "  </thead>\n",
       "  <tbody>\n",
       "    <tr>\n",
       "      <th>0</th>\n",
       "      <td>2002-04-01</td>\n",
       "      <td>46.673141</td>\n",
       "      <td>47.702068</td>\n",
       "      <td>46.309536</td>\n",
       "      <td>46.750504</td>\n",
       "      <td>16271826</td>\n",
       "    </tr>\n",
       "    <tr>\n",
       "      <th>1</th>\n",
       "      <td>2002-04-02</td>\n",
       "      <td>46.495205</td>\n",
       "      <td>47.075428</td>\n",
       "      <td>46.495205</td>\n",
       "      <td>46.967121</td>\n",
       "      <td>9707066</td>\n",
       "    </tr>\n",
       "    <tr>\n",
       "      <th>2</th>\n",
       "      <td>2002-04-03</td>\n",
       "      <td>46.951649</td>\n",
       "      <td>46.951649</td>\n",
       "      <td>46.038765</td>\n",
       "      <td>46.255383</td>\n",
       "      <td>6812526</td>\n",
       "    </tr>\n",
       "    <tr>\n",
       "      <th>3</th>\n",
       "      <td>2002-04-04</td>\n",
       "      <td>46.495205</td>\n",
       "      <td>49.496895</td>\n",
       "      <td>46.495205</td>\n",
       "      <td>47.245628</td>\n",
       "      <td>63835106</td>\n",
       "    </tr>\n",
       "    <tr>\n",
       "      <th>4</th>\n",
       "      <td>2002-04-05</td>\n",
       "      <td>47.384880</td>\n",
       "      <td>48.119831</td>\n",
       "      <td>47.191475</td>\n",
       "      <td>47.299782</td>\n",
       "      <td>21476234</td>\n",
       "    </tr>\n",
       "  </tbody>\n",
       "</table>\n",
       "</div>"
      ],
      "text/plain": [
       "        Date       Open       High        Low      Close    Volume\n",
       "0 2002-04-01  46.673141  47.702068  46.309536  46.750504  16271826\n",
       "1 2002-04-02  46.495205  47.075428  46.495205  46.967121   9707066\n",
       "2 2002-04-03  46.951649  46.951649  46.038765  46.255383   6812526\n",
       "3 2002-04-04  46.495205  49.496895  46.495205  47.245628  63835106\n",
       "4 2002-04-05  47.384880  48.119831  47.191475  47.299782  21476234"
      ]
     },
     "execution_count": 13,
     "metadata": {},
     "output_type": "execute_result"
    }
   ],
   "source": [
    "df = df.drop(['Adj Close'], axis=1)\n",
    "df.head()"
   ]
  },
  {
   "cell_type": "code",
   "execution_count": 14,
   "id": "8f2509a6",
   "metadata": {},
   "outputs": [
    {
     "data": {
      "text/plain": [
       "[<matplotlib.lines.Line2D at 0x1e0731a9c50>]"
      ]
     },
     "execution_count": 14,
     "metadata": {},
     "output_type": "execute_result"
    },
    {
     "data": {
      "image/png": "[encoded data removed]",
      "text/plain": [
       "<Figure size 640x480 with 1 Axes>"
      ]
     },
     "metadata": {},
     "output_type": "display_data"
    }
   ],
   "source": [
    "plt.plot(df.Close)"
   ]
  },
  {
   "cell_type": "code",
   "execution_count": 15,
   "id": "fe803117",
   "metadata": {},
   "outputs": [
    {
     "data": {
      "text/html": [
       "<div>\n",
       "<style scoped>\n",
       "    .dataframe tbody tr th:only-of-type {\n",
       "        vertical-align: middle;\n",
       "    }\n",
       "\n",
       "    .dataframe tbody tr th {\n",
       "        vertical-align: top;\n",
       "    }\n",
       "\n",
       "    .dataframe thead th {\n",
       "        text-align: right;\n",
       "    }\n",
       "</style>\n",
       "<table border=\"1\" class=\"dataframe\">\n",
       "  <thead>\n",
       "    <tr style=\"text-align: right;\">\n",
       "      <th></th>\n",
       "      <th>Date</th>\n",
       "      <th>Open</th>\n",
       "      <th>High</th>\n",
       "      <th>Low</th>\n",
       "      <th>Close</th>\n",
       "      <th>Volume</th>\n",
       "    </tr>\n",
       "  </thead>\n",
       "  <tbody>\n",
       "    <tr>\n",
       "      <th>0</th>\n",
       "      <td>2002-04-01</td>\n",
       "      <td>46.673141</td>\n",
       "      <td>47.702068</td>\n",
       "      <td>46.309536</td>\n",
       "      <td>46.750504</td>\n",
       "      <td>16271826</td>\n",
       "    </tr>\n",
       "    <tr>\n",
       "      <th>1</th>\n",
       "      <td>2002-04-02</td>\n",
       "      <td>46.495205</td>\n",
       "      <td>47.075428</td>\n",
       "      <td>46.495205</td>\n",
       "      <td>46.967121</td>\n",
       "      <td>9707066</td>\n",
       "    </tr>\n",
       "    <tr>\n",
       "      <th>2</th>\n",
       "      <td>2002-04-03</td>\n",
       "      <td>46.951649</td>\n",
       "      <td>46.951649</td>\n",
       "      <td>46.038765</td>\n",
       "      <td>46.255383</td>\n",
       "      <td>6812526</td>\n",
       "    </tr>\n",
       "    <tr>\n",
       "      <th>3</th>\n",
       "      <td>2002-04-04</td>\n",
       "      <td>46.495205</td>\n",
       "      <td>49.496895</td>\n",
       "      <td>46.495205</td>\n",
       "      <td>47.245628</td>\n",
       "      <td>63835106</td>\n",
       "    </tr>\n",
       "    <tr>\n",
       "      <th>4</th>\n",
       "      <td>2002-04-05</td>\n",
       "      <td>47.384880</td>\n",
       "      <td>48.119831</td>\n",
       "      <td>47.191475</td>\n",
       "      <td>47.299782</td>\n",
       "      <td>21476234</td>\n",
       "    </tr>\n",
       "    <tr>\n",
       "      <th>...</th>\n",
       "      <td>...</td>\n",
       "      <td>...</td>\n",
       "      <td>...</td>\n",
       "      <td>...</td>\n",
       "      <td>...</td>\n",
       "      <td>...</td>\n",
       "    </tr>\n",
       "    <tr>\n",
       "      <th>5361</th>\n",
       "      <td>2023-10-26</td>\n",
       "      <td>2251.000000</td>\n",
       "      <td>2258.000000</td>\n",
       "      <td>2220.300049</td>\n",
       "      <td>2226.500000</td>\n",
       "      <td>7611267</td>\n",
       "    </tr>\n",
       "    <tr>\n",
       "      <th>5362</th>\n",
       "      <td>2023-10-27</td>\n",
       "      <td>2240.000000</td>\n",
       "      <td>2273.500000</td>\n",
       "      <td>2235.949951</td>\n",
       "      <td>2265.800049</td>\n",
       "      <td>5885542</td>\n",
       "    </tr>\n",
       "    <tr>\n",
       "      <th>5363</th>\n",
       "      <td>2023-10-30</td>\n",
       "      <td>2274.000000</td>\n",
       "      <td>2325.000000</td>\n",
       "      <td>2269.949951</td>\n",
       "      <td>2312.500000</td>\n",
       "      <td>8406652</td>\n",
       "    </tr>\n",
       "    <tr>\n",
       "      <th>5364</th>\n",
       "      <td>2023-10-31</td>\n",
       "      <td>2328.000000</td>\n",
       "      <td>2328.000000</td>\n",
       "      <td>2282.899902</td>\n",
       "      <td>2287.899902</td>\n",
       "      <td>6404219</td>\n",
       "    </tr>\n",
       "    <tr>\n",
       "      <th>5365</th>\n",
       "      <td>2023-11-01</td>\n",
       "      <td>2289.149902</td>\n",
       "      <td>2317.500000</td>\n",
       "      <td>2275.199951</td>\n",
       "      <td>2297.399902</td>\n",
       "      <td>5154595</td>\n",
       "    </tr>\n",
       "  </tbody>\n",
       "</table>\n",
       "<p>5366 rows × 6 columns</p>\n",
       "</div>"
      ],
      "text/plain": [
       "           Date         Open         High          Low        Close    Volume\n",
       "0    2002-04-01    46.673141    47.702068    46.309536    46.750504  16271826\n",
       "1    2002-04-02    46.495205    47.075428    46.495205    46.967121   9707066\n",
       "2    2002-04-03    46.951649    46.951649    46.038765    46.255383   6812526\n",
       "3    2002-04-04    46.495205    49.496895    46.495205    47.245628  63835106\n",
       "4    2002-04-05    47.384880    48.119831    47.191475    47.299782  21476234\n",
       "...         ...          ...          ...          ...          ...       ...\n",
       "5361 2023-10-26  2251.000000  2258.000000  2220.300049  2226.500000   7611267\n",
       "5362 2023-10-27  2240.000000  2273.500000  2235.949951  2265.800049   5885542\n",
       "5363 2023-10-30  2274.000000  2325.000000  2269.949951  2312.500000   8406652\n",
       "5364 2023-10-31  2328.000000  2328.000000  2282.899902  2287.899902   6404219\n",
       "5365 2023-11-01  2289.149902  2317.500000  2275.199951  2297.399902   5154595\n",
       "\n",
       "[5366 rows x 6 columns]"
      ]
     },
     "execution_count": 15,
     "metadata": {},
     "output_type": "execute_result"
    }
   ],
   "source": [
    "df"
   ]
  },
  {
   "cell_type": "code",
   "execution_count": 16,
   "id": "d78a830c",
   "metadata": {},
   "outputs": [
    {
     "data": {
      "text/plain": [
       "0               NaN\n",
       "1               NaN\n",
       "2               NaN\n",
       "3               NaN\n",
       "4               NaN\n",
       "           ...     \n",
       "5361    2483.139998\n",
       "5362    2481.245999\n",
       "5363    2479.598499\n",
       "5364    2477.683997\n",
       "5365    2475.676497\n",
       "Name: Close, Length: 5366, dtype: float64"
      ]
     },
     "execution_count": 16,
     "metadata": {},
     "output_type": "execute_result"
    }
   ],
   "source": [
    "ma100=df.Close.rolling(100).mean()\n",
    "ma100"
   ]
  },
  {
   "cell_type": "code",
   "execution_count": 17,
   "id": "b6d9cf6e",
   "metadata": {},
   "outputs": [
    {
     "data": {
      "text/plain": [
       "[<matplotlib.lines.Line2D at 0x1e073152f90>]"
      ]
     },
     "execution_count": 17,
     "metadata": {},
     "output_type": "execute_result"
    },
    {
     "data": {
      "image/png": "[encoded data removed]",
      "text/plain": [
       "<Figure size 1200x800 with 1 Axes>"
      ]
     },
     "metadata": {},
     "output_type": "display_data"
    }
   ],
   "source": [
    "plt.figure(figsize=(12,8))\n",
    "plt.plot(df.Close)\n",
    "plt.plot(ma100,'r')"
   ]
  },
  {
   "cell_type": "code",
   "execution_count": 18,
   "id": "39025dc7",
   "metadata": {},
   "outputs": [
    {
     "data": {
      "text/plain": [
       "0               NaN\n",
       "1               NaN\n",
       "2               NaN\n",
       "3               NaN\n",
       "4               NaN\n",
       "           ...     \n",
       "5361    2435.944753\n",
       "5362    2434.681003\n",
       "5363    2433.673253\n",
       "5364    2432.428253\n",
       "5365    2430.931252\n",
       "Name: Close, Length: 5366, dtype: float64"
      ]
     },
     "execution_count": 18,
     "metadata": {},
     "output_type": "execute_result"
    }
   ],
   "source": [
    "ma200=df.Close.rolling(200).mean()\n",
    "ma200"
   ]
  },
  {
   "cell_type": "code",
   "execution_count": 19,
   "id": "a1258d72",
   "metadata": {},
   "outputs": [
    {
     "data": {
      "text/plain": [
       "[<matplotlib.lines.Line2D at 0x1e072ffb7d0>]"
      ]
     },
     "execution_count": 19,
     "metadata": {},
     "output_type": "execute_result"
    },
    {
     "data": {
      "image/png": "[encoded data removed]",
      "text/plain": [
       "<Figure size 1200x800 with 1 Axes>"
      ]
     },
     "metadata": {},
     "output_type": "display_data"
    }
   ],
   "source": [
    "plt.figure(figsize=(12,8))\n",
    "plt.plot(df.Close)\n",
    "plt.plot(ma100,'r')\n",
    "plt.plot(ma200,'g')"
   ]
  },
  {
   "cell_type": "code",
   "execution_count": 20,
   "id": "aaa0cf86",
   "metadata": {},
   "outputs": [
    {
     "data": {
      "text/plain": [
       "(5366, 6)"
      ]
     },
     "execution_count": 20,
     "metadata": {},
     "output_type": "execute_result"
    }
   ],
   "source": [
    "df.shape"
   ]
  },
  {
   "cell_type": "code",
   "execution_count": 21,
   "id": "3960da5f",
   "metadata": {},
   "outputs": [
    {
     "name": "stdout",
     "output_type": "stream",
     "text": [
      "(3756, 1)\n",
      "(1610, 1)\n"
     ]
    }
   ],
   "source": [
    "#Dividing training and testing data\n",
    "\n",
    "data_training = pd.DataFrame(df['Close'][0:int(len(df)*0.70)])\n",
    "data_testing = pd.DataFrame(df['Close'][int(len(df)*0.70):int(len(df))])\n",
    "print(data_training.shape)\n",
    "print(data_testing.shape)"
   ]
  },
  {
   "cell_type": "code",
   "execution_count": 22,
   "id": "f5eb774f",
   "metadata": {},
   "outputs": [],
   "source": [
    "from sklearn.preprocessing import MinMaxScaler\n",
    "scaler=MinMaxScaler(feature_range=(0,1))"
   ]
  },
  {
   "cell_type": "code",
   "execution_count": 23,
   "id": "fcd695d9",
   "metadata": {},
   "outputs": [
    {
     "data": {
      "text/plain": [
       "array([[0.01668542],\n",
       "       [0.01696908],\n",
       "       [0.01603705],\n",
       "       ...,\n",
       "       [0.87418622],\n",
       "       [0.86967837],\n",
       "       [0.86040332]])"
      ]
     },
     "execution_count": 23,
     "metadata": {},
     "output_type": "execute_result"
    }
   ],
   "source": [
    "data_training_array= scaler.fit_transform(data_training)\n",
    "data_training_array"
   ]
  },
  {
   "cell_type": "code",
   "execution_count": 24,
   "id": "2d30c506",
   "metadata": {},
   "outputs": [],
   "source": [
    "x_train = []\n",
    "y_train = []\n",
    "\n",
    "for i in range(100, len(data_training_array)):\n",
    "    x_train.append(data_training_array[i-100:i])\n",
    "    y_train.append(data_training_array[i, 0])\n",
    "    \n",
    "x_train, y_train = np.array(x_train), np.array(y_train)\n",
    "\n",
    "x_train.shape"
   ]
  },
  {
   "cell_type": "code",
   "execution_count": 25,
   "id": "dd776baf",
   "metadata": {},
   "outputs": [],
   "source": [
    "#ML Model"
   ]
  },
  {
   "cell_type": "code",
   "execution_count": 26,
   "id": "f846f845",
   "metadata": {
    "scrolled": false
   },
   "outputs": [],
   "source": [
    "from keras.layers import Dense, Dropout, LSTM\n",
    "from keras.models import Sequential"
   ]
  },
  {
   "cell_type": "code",
   "execution_count": 27,
   "id": "a68d6cfc",
   "metadata": {},
   "outputs": [],
   "source": [
    "from keras.layers import Dense, Dropout, LSTM\n",
    "from keras.models import Sequential\n",
    "\n",
    "model = Sequential()\n",
    "\n",
    "model.add(LSTM(units=50, activation='relu', return_sequences=True, input_shape=(x_train.shape[1], 1)))\n",
    "model.add(Dropout(0.2))\n",
    "\n",
    "model.add(LSTM(units=60, activation='relu', return_sequences=True))\n",
    "model.add(Dropout(0.3))\n",
    "\n",
    "model.add(LSTM(units=80, activation='relu', return_sequences=True))\n",
    "model.add(Dropout(0.4))\n",
    "\n",
    "model.add(LSTM(units=120, activation='relu'))\n",
    "model.add(Dropout(0.5))\n",
    "\n",
    "model.add(Dense(units=1))"
   ]
  },
  {
   "cell_type": "code",
   "execution_count": 28,
   "id": "7eb93e4d",
   "metadata": {},
   "outputs": [
    {
     "name": "stdout",
     "output_type": "stream",
     "text": [
      "Model: \"sequential_1\"\n",
      "_________________________________________________________________\n",
      " Layer (type)                Output Shape              Param #   \n",
      "=================================================================\n",
      " lstm (LSTM)                 (None, 100, 50)           10400     \n",
      "                                                                 \n",
      " dropout (Dropout)           (None, 100, 50)           0         \n",
      "                                                                 \n",
      " lstm_1 (LSTM)               (None, 100, 60)           26640     \n",
      "                                                                 \n",
      " dropout_1 (Dropout)         (None, 100, 60)           0         \n",
      "                                                                 \n",
      " lstm_2 (LSTM)               (None, 100, 80)           45120     \n",
      "                                                                 \n",
      " dropout_2 (Dropout)         (None, 100, 80)           0         \n",
      "                                                                 \n",
      " lstm_3 (LSTM)               (None, 120)               96480     \n",
      "                                                                 \n",
      " dropout_3 (Dropout)         (None, 120)               0         \n",
      "                                                                 \n",
      " dense (Dense)               (None, 1)                 121       \n",
      "                                                                 \n",
      "=================================================================\n",
      "Total params: 178761 (698.29 KB)\n",
      "Trainable params: 178761 (698.29 KB)\n",
      "Non-trainable params: 0 (0.00 Byte)\n",
      "_________________________________________________________________\n"
     ]
    }
   ],
   "source": [
    "model.summary()"
   ]
  },
  {
   "cell_type": "code",
   "execution_count": 30,
   "id": "74d843c7",
   "metadata": {},
   "outputs": [
    {
     "name": "stdout",
     "output_type": "stream",
     "text": [
      "Epoch 1/50\n",
      "115/115 [==============================] - 39s 311ms/step - loss: 0.0271\n",
      "Epoch 2/50\n",
      "115/115 [==============================] - 36s 317ms/step - loss: 0.0065\n",
      "Epoch 3/50\n",
      "115/115 [==============================] - 34s 298ms/step - loss: 0.0057\n",
      "Epoch 4/50\n",
      "115/115 [==============================] - 34s 295ms/step - loss: 0.0051\n",
      "Epoch 5/50\n",
      "115/115 [==============================] - 34s 295ms/step - loss: 0.0047\n",
      "Epoch 6/50\n",
      "115/115 [==============================] - 34s 300ms/step - loss: 0.0047\n",
      "Epoch 7/50\n",
      "115/115 [==============================] - 35s 302ms/step - loss: 0.0043\n",
      "Epoch 8/50\n",
      "115/115 [==============================] - 34s 292ms/step - loss: 0.0038\n",
      "Epoch 9/50\n",
      "115/115 [==============================] - 36s 311ms/step - loss: 0.0036\n",
      "Epoch 10/50\n",
      "115/115 [==============================] - 34s 300ms/step - loss: 0.0037\n",
      "Epoch 11/50\n",
      "115/115 [==============================] - 34s 293ms/step - loss: 0.0034\n",
      "Epoch 12/50\n",
      "115/115 [==============================] - 32s 283ms/step - loss: 0.0030\n",
      "Epoch 13/50\n",
      "115/115 [==============================] - 33s 286ms/step - loss: 0.0029\n",
      "Epoch 14/50\n",
      "115/115 [==============================] - 36s 309ms/step - loss: 0.0029\n",
      "Epoch 15/50\n",
      "115/115 [==============================] - 34s 297ms/step - loss: 0.0028\n",
      "Epoch 16/50\n",
      "115/115 [==============================] - 36s 308ms/step - loss: 0.0026\n",
      "Epoch 17/50\n",
      "115/115 [==============================] - 34s 298ms/step - loss: 0.0027\n",
      "Epoch 18/50\n",
      "115/115 [==============================] - 34s 294ms/step - loss: 0.0024\n",
      "Epoch 19/50\n",
      "115/115 [==============================] - 34s 292ms/step - loss: 0.0024\n",
      "Epoch 20/50\n",
      "115/115 [==============================] - 33s 288ms/step - loss: 0.0024\n",
      "Epoch 21/50\n",
      "115/115 [==============================] - 35s 303ms/step - loss: 0.0022\n",
      "Epoch 22/50\n",
      "115/115 [==============================] - 34s 299ms/step - loss: 0.0022\n",
      "Epoch 23/50\n",
      "115/115 [==============================] - 36s 310ms/step - loss: 0.0022\n",
      "Epoch 24/50\n",
      "115/115 [==============================] - 34s 291ms/step - loss: 0.0020\n",
      "Epoch 25/50\n",
      "115/115 [==============================] - 33s 285ms/step - loss: 0.0020\n",
      "Epoch 26/50\n",
      "115/115 [==============================] - 34s 297ms/step - loss: 0.0020\n",
      "Epoch 27/50\n",
      "115/115 [==============================] - 36s 309ms/step - loss: 0.0020\n",
      "Epoch 28/50\n",
      "115/115 [==============================] - 33s 285ms/step - loss: 0.0019\n",
      "Epoch 29/50\n",
      "115/115 [==============================] - 31s 265ms/step - loss: 0.0020\n",
      "Epoch 30/50\n",
      "115/115 [==============================] - 32s 280ms/step - loss: 0.0020\n",
      "Epoch 31/50\n",
      "115/115 [==============================] - 36s 313ms/step - loss: 0.0020\n",
      "Epoch 32/50\n",
      "115/115 [==============================] - 34s 291ms/step - loss: 0.0019\n",
      "Epoch 33/50\n",
      "115/115 [==============================] - 32s 276ms/step - loss: 0.0020\n",
      "Epoch 34/50\n",
      "115/115 [==============================] - 33s 289ms/step - loss: 0.0020\n",
      "Epoch 35/50\n",
      "115/115 [==============================] - 36s 309ms/step - loss: 0.0019\n",
      "Epoch 36/50\n",
      "115/115 [==============================] - 34s 295ms/step - loss: 0.0020\n",
      "Epoch 37/50\n",
      "115/115 [==============================] - 35s 308ms/step - loss: 0.0018\n",
      "Epoch 38/50\n",
      "115/115 [==============================] - 35s 302ms/step - loss: 0.0018\n",
      "Epoch 39/50\n",
      "115/115 [==============================] - 35s 306ms/step - loss: 0.0019\n",
      "Epoch 40/50\n",
      "115/115 [==============================] - 36s 309ms/step - loss: 0.0018\n",
      "Epoch 41/50\n",
      "115/115 [==============================] - 35s 303ms/step - loss: 0.0018\n",
      "Epoch 42/50\n",
      "115/115 [==============================] - 35s 303ms/step - loss: 0.0019\n",
      "Epoch 43/50\n",
      "115/115 [==============================] - 35s 302ms/step - loss: 0.0019\n",
      "Epoch 44/50\n",
      "115/115 [==============================] - 36s 313ms/step - loss: 0.0019\n",
      "Epoch 45/50\n",
      "115/115 [==============================] - 35s 303ms/step - loss: 0.0018\n",
      "Epoch 46/50\n",
      "115/115 [==============================] - 34s 296ms/step - loss: 0.0018\n",
      "Epoch 47/50\n",
      "115/115 [==============================] - 35s 301ms/step - loss: 0.0018\n",
      "Epoch 48/50\n",
      "115/115 [==============================] - 34s 299ms/step - loss: 0.0019\n",
      "Epoch 49/50\n",
      "115/115 [==============================] - 34s 297ms/step - loss: 0.0018\n",
      "Epoch 50/50\n",
      "115/115 [==============================] - 35s 301ms/step - loss: 0.0018\n"
     ]
    },
    {
     "data": {
      "text/plain": [
       "<keras.src.callbacks.History at 0x1e0759e5e10>"
      ]
     },
     "execution_count": 30,
     "metadata": {},
     "output_type": "execute_result"
    }
   ],
   "source": [
    "model.compile(optimizer='adam', loss = 'mean_squared_error')\n",
    "model.fit(x_train, y_train, epochs = 50)"
   ]
  },
  {
   "cell_type": "code",
   "execution_count": 32,
   "id": "6f941d2e",
   "metadata": {
    "scrolled": true
   },
   "outputs": [],
   "source": [
    "model.save('keras_model.h5')"
   ]
  },
  {
   "cell_type": "code",
   "execution_count": 33,
   "id": "5c1718a4",
   "metadata": {},
   "outputs": [
    {
     "data": {
      "text/html": [
       "<div>\n",
       "<style scoped>\n",
       "    .dataframe tbody tr th:only-of-type {\n",
       "        vertical-align: middle;\n",
       "    }\n",
       "\n",
       "    .dataframe tbody tr th {\n",
       "        vertical-align: top;\n",
       "    }\n",
       "\n",
       "    .dataframe thead th {\n",
       "        text-align: right;\n",
       "    }\n",
       "</style>\n",
       "<table border=\"1\" class=\"dataframe\">\n",
       "  <thead>\n",
       "    <tr style=\"text-align: right;\">\n",
       "      <th></th>\n",
       "      <th>Close</th>\n",
       "    </tr>\n",
       "  </thead>\n",
       "  <tbody>\n",
       "    <tr>\n",
       "      <th>3756</th>\n",
       "      <td>678.840271</td>\n",
       "    </tr>\n",
       "    <tr>\n",
       "      <th>3757</th>\n",
       "      <td>678.617371</td>\n",
       "    </tr>\n",
       "    <tr>\n",
       "      <th>3758</th>\n",
       "      <td>672.599426</td>\n",
       "    </tr>\n",
       "    <tr>\n",
       "      <th>3759</th>\n",
       "      <td>657.888855</td>\n",
       "    </tr>\n",
       "    <tr>\n",
       "      <th>3760</th>\n",
       "      <td>654.496033</td>\n",
       "    </tr>\n",
       "  </tbody>\n",
       "</table>\n",
       "</div>"
      ],
      "text/plain": [
       "           Close\n",
       "3756  678.840271\n",
       "3757  678.617371\n",
       "3758  672.599426\n",
       "3759  657.888855\n",
       "3760  654.496033"
      ]
     },
     "execution_count": 33,
     "metadata": {},
     "output_type": "execute_result"
    }
   ],
   "source": [
    "data_testing.head()"
   ]
  },
  {
   "cell_type": "code",
   "execution_count": 34,
   "id": "ce4d3801",
   "metadata": {},
   "outputs": [
    {
     "data": {
      "text/html": [
       "<div>\n",
       "<style scoped>\n",
       "    .dataframe tbody tr th:only-of-type {\n",
       "        vertical-align: middle;\n",
       "    }\n",
       "\n",
       "    .dataframe tbody tr th {\n",
       "        vertical-align: top;\n",
       "    }\n",
       "\n",
       "    .dataframe thead th {\n",
       "        text-align: right;\n",
       "    }\n",
       "</style>\n",
       "<table border=\"1\" class=\"dataframe\">\n",
       "  <thead>\n",
       "    <tr style=\"text-align: right;\">\n",
       "      <th></th>\n",
       "      <th>Close</th>\n",
       "    </tr>\n",
       "  </thead>\n",
       "  <tbody>\n",
       "    <tr>\n",
       "      <th>3656</th>\n",
       "      <td>492.258881</td>\n",
       "    </tr>\n",
       "    <tr>\n",
       "      <th>3657</th>\n",
       "      <td>497.880585</td>\n",
       "    </tr>\n",
       "    <tr>\n",
       "      <th>3658</th>\n",
       "      <td>494.884003</td>\n",
       "    </tr>\n",
       "    <tr>\n",
       "      <th>3659</th>\n",
       "      <td>505.235870</td>\n",
       "    </tr>\n",
       "    <tr>\n",
       "      <th>3660</th>\n",
       "      <td>509.644073</td>\n",
       "    </tr>\n",
       "    <tr>\n",
       "      <th>...</th>\n",
       "      <td>...</td>\n",
       "    </tr>\n",
       "    <tr>\n",
       "      <th>3751</th>\n",
       "      <td>702.045288</td>\n",
       "    </tr>\n",
       "    <tr>\n",
       "      <th>3752</th>\n",
       "      <td>709.673035</td>\n",
       "    </tr>\n",
       "    <tr>\n",
       "      <th>3753</th>\n",
       "      <td>701.574768</td>\n",
       "    </tr>\n",
       "    <tr>\n",
       "      <th>3754</th>\n",
       "      <td>698.132385</td>\n",
       "    </tr>\n",
       "    <tr>\n",
       "      <th>3755</th>\n",
       "      <td>691.049561</td>\n",
       "    </tr>\n",
       "  </tbody>\n",
       "</table>\n",
       "<p>100 rows × 1 columns</p>\n",
       "</div>"
      ],
      "text/plain": [
       "           Close\n",
       "3656  492.258881\n",
       "3657  497.880585\n",
       "3658  494.884003\n",
       "3659  505.235870\n",
       "3660  509.644073\n",
       "...          ...\n",
       "3751  702.045288\n",
       "3752  709.673035\n",
       "3753  701.574768\n",
       "3754  698.132385\n",
       "3755  691.049561\n",
       "\n",
       "[100 rows x 1 columns]"
      ]
     },
     "execution_count": 34,
     "metadata": {},
     "output_type": "execute_result"
    }
   ],
   "source": [
    "data_training.tail(100)"
   ]
  },
  {
   "cell_type": "code",
   "execution_count": 35,
   "id": "15a5fe06",
   "metadata": {},
   "outputs": [],
   "source": [
    "past_100_days = data_training.tail(100)"
   ]
  },
  {
   "cell_type": "code",
   "execution_count": 46,
   "id": "fb442398",
   "metadata": {
    "scrolled": true
   },
   "outputs": [],
   "source": [
    "final_df = pd.concat([past_100_days, data_testing], ignore_index=True)"
   ]
  },
  {
   "cell_type": "code",
   "execution_count": 47,
   "id": "30278441",
   "metadata": {},
   "outputs": [
    {
     "data": {
      "text/html": [
       "<div>\n",
       "<style scoped>\n",
       "    .dataframe tbody tr th:only-of-type {\n",
       "        vertical-align: middle;\n",
       "    }\n",
       "\n",
       "    .dataframe tbody tr th {\n",
       "        vertical-align: top;\n",
       "    }\n",
       "\n",
       "    .dataframe thead th {\n",
       "        text-align: right;\n",
       "    }\n",
       "</style>\n",
       "<table border=\"1\" class=\"dataframe\">\n",
       "  <thead>\n",
       "    <tr style=\"text-align: right;\">\n",
       "      <th></th>\n",
       "      <th>Close</th>\n",
       "    </tr>\n",
       "  </thead>\n",
       "  <tbody>\n",
       "    <tr>\n",
       "      <th>0</th>\n",
       "      <td>492.258881</td>\n",
       "    </tr>\n",
       "    <tr>\n",
       "      <th>1</th>\n",
       "      <td>497.880585</td>\n",
       "    </tr>\n",
       "    <tr>\n",
       "      <th>2</th>\n",
       "      <td>494.884003</td>\n",
       "    </tr>\n",
       "    <tr>\n",
       "      <th>3</th>\n",
       "      <td>505.235870</td>\n",
       "    </tr>\n",
       "    <tr>\n",
       "      <th>4</th>\n",
       "      <td>509.644073</td>\n",
       "    </tr>\n",
       "  </tbody>\n",
       "</table>\n",
       "</div>"
      ],
      "text/plain": [
       "        Close\n",
       "0  492.258881\n",
       "1  497.880585\n",
       "2  494.884003\n",
       "3  505.235870\n",
       "4  509.644073"
      ]
     },
     "execution_count": 47,
     "metadata": {},
     "output_type": "execute_result"
    }
   ],
   "source": [
    "final_df.head()"
   ]
  },
  {
   "cell_type": "code",
   "execution_count": 49,
   "id": "069d7683",
   "metadata": {},
   "outputs": [
    {
     "data": {
      "text/plain": [
       "array([[0.        ],\n",
       "       [0.00239263],\n",
       "       [0.00111727],\n",
       "       ...,\n",
       "       [0.77470545],\n",
       "       [0.7642355 ],\n",
       "       [0.76827876]])"
      ]
     },
     "execution_count": 49,
     "metadata": {},
     "output_type": "execute_result"
    }
   ],
   "source": [
    "input_data = scaler.fit_transform(final_df)\n",
    "input_data"
   ]
  },
  {
   "cell_type": "code",
   "execution_count": 50,
   "id": "0a2a3981",
   "metadata": {},
   "outputs": [
    {
     "data": {
      "text/plain": [
       "(1710, 1)"
      ]
     },
     "execution_count": 50,
     "metadata": {},
     "output_type": "execute_result"
    }
   ],
   "source": [
    "input_data.shape"
   ]
  },
  {
   "cell_type": "code",
   "execution_count": 60,
   "id": "d5e3fee7",
   "metadata": {},
   "outputs": [],
   "source": [
    "from keras.preprocessing.sequence import pad_sequences\n",
    "\n",
    "x_test = []\n",
    "y_test = []\n",
    "\n",
    "for i in range(100, input_data.shape[0]):\n",
    "    x_test.append(input_data[i-100: i, 0])\n",
    "    y_test.append(input_data[i, 0])"
   ]
  },
  {
   "cell_type": "code",
   "execution_count": 61,
   "id": "863cf31d",
   "metadata": {},
   "outputs": [
    {
     "name": "stdout",
     "output_type": "stream",
     "text": [
      "(1610, 100)\n",
      "(1610,)\n"
     ]
    }
   ],
   "source": [
    "x_test = np.array(x_test)\n",
    "y_test = np.array(y_test)\n",
    "\n",
    "x_test = pad_sequences(x_test, maxlen=100, dtype='float32', padding='post', truncating='post')\n",
    "\n",
    "print(x_test.shape)\n",
    "print(y_test.shape)"
   ]
  },
  {
   "cell_type": "code",
   "execution_count": 62,
   "id": "6b2da2bc",
   "metadata": {},
   "outputs": [],
   "source": [
    "# Making Predictions"
   ]
  },
  {
   "cell_type": "code",
   "execution_count": 63,
   "id": "fc202f1f",
   "metadata": {},
   "outputs": [
    {
     "name": "stdout",
     "output_type": "stream",
     "text": [
      "51/51 [==============================] - 5s 92ms/step\n"
     ]
    }
   ],
   "source": [
    "y_predicted = model.predict(x_test)"
   ]
  },
  {
   "cell_type": "code",
   "execution_count": 64,
   "id": "aae7e7ef",
   "metadata": {},
   "outputs": [
    {
     "data": {
      "text/plain": [
       "(1610, 1)"
      ]
     },
     "execution_count": 64,
     "metadata": {},
     "output_type": "execute_result"
    }
   ],
   "source": [
    "y_predicted.shape"
   ]
  },
  {
   "cell_type": "code",
   "execution_count": 65,
   "id": "6fad00ff",
   "metadata": {},
   "outputs": [
    {
     "data": {
      "text/plain": [
       "array([0.07941015, 0.07931528, 0.07675401, ..., 0.77470545, 0.7642355 ,\n",
       "       0.76827876])"
      ]
     },
     "execution_count": 65,
     "metadata": {},
     "output_type": "execute_result"
    }
   ],
   "source": [
    "y_test"
   ]
  },
  {
   "cell_type": "code",
   "execution_count": 66,
   "id": "449c3c9f",
   "metadata": {},
   "outputs": [
    {
     "data": {
      "text/plain": [
       "array([[0.14226957],\n",
       "       [0.14310873],\n",
       "       [0.14386189],\n",
       "       ...,\n",
       "       [0.7189323 ],\n",
       "       [0.71681416],\n",
       "       [0.71838796]], dtype=float32)"
      ]
     },
     "execution_count": 66,
     "metadata": {},
     "output_type": "execute_result"
    }
   ],
   "source": [
    "y_predicted"
   ]
  },
  {
   "cell_type": "code",
   "execution_count": 67,
   "id": "c9a1f82d",
   "metadata": {},
   "outputs": [
    {
     "data": {
      "text/plain": [
       "array([0.00042561])"
      ]
     },
     "execution_count": 67,
     "metadata": {},
     "output_type": "execute_result"
    }
   ],
   "source": [
    "scaler.scale_"
   ]
  },
  {
   "cell_type": "code",
   "execution_count": 68,
   "id": "8ce59b2c",
   "metadata": {},
   "outputs": [],
   "source": [
    "scale_factor = 1/0.00042561\n",
    "y_predicted = y_predicted * scale_factor\n",
    "y_test = y_test * scale_factor"
   ]
  },
  {
   "cell_type": "code",
   "execution_count": 69,
   "id": "318fd730",
   "metadata": {},
   "outputs": [
    {
     "data": {
      "image/png": "[encoded data removed]",
      "text/plain": [
       "<Figure size 1200x600 with 1 Axes>"
      ]
     },
     "metadata": {},
     "output_type": "display_data"
    }
   ],
   "source": [
    "plt.figure(figsize=(12,6))\n",
    "plt.plot(y_test, 'b', label = 'Original Price')\n",
    "plt.plot(y_predicted, 'r', label = 'Predicted Price')\n",
    "\n",
    "plt.xlabel('Time')\n",
    "plt.ylabel('Price')\n",
    "\n",
    "plt.legend()\n",
    "\n",
    "plt.show()"
   ]
  },
  {
   "cell_type": "code",
   "execution_count": null,
   "id": "bc4935a5",
   "metadata": {},
   "outputs": [],
   "source": []
  }
 ],
 "metadata": {
  "kernelspec": {
   "display_name": "Python 3 (ipykernel)",
   "language": "python",
   "name": "python3"
  },
  "language_info": {
   "codemirror_mode": {
    "name": "ipython",
    "version": 3
   },
   "file_extension": ".py",
   "mimetype": "text/x-python",
   "name": "python",
   "nbconvert_exporter": "python",
   "pygments_lexer": "ipython3",
   "version": "3.11.4"
  }
 },
 "nbformat": 4,
 "nbformat_minor": 5
}
